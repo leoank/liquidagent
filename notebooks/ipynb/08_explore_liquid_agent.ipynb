{
 "cells": [
  {
   "cell_type": "code",
   "execution_count": 44,
   "id": "784c3e73",
   "metadata": {},
   "outputs": [],
   "source": [
    "from os import name\n",
    "\n",
    "from liquidagent.chat_model.base import Tool\n",
    "from liquidagent.config import (\n",
    "    LiquidAgentConfig,\n",
    "    OllamaProviderConfig,\n",
    "    SupportedModelProviders,\n",
    ")\n",
    "from liquidagent.utils import get_chat_model"
   ]
  },
  {
   "cell_type": "markdown",
   "id": "3602e44f",
   "metadata": {},
   "source": [
    "Testing out the liquidagent api"
   ]
  },
  {
   "cell_type": "code",
   "execution_count": 45,
   "id": "9cf42963",
   "metadata": {},
   "outputs": [],
   "source": [
    "config = LiquidAgentConfig(\n",
    "    preferred_model=SupportedModelProviders(\"ollama\"),\n",
    "    ollama=OllamaProviderConfig(\n",
    "        host=\"http://karkinos:11434\",\n",
    "        model=\"devstral\",\n",
    "    ),\n",
    ")"
   ]
  },
  {
   "cell_type": "code",
   "execution_count": 46,
   "id": "c835e1a3",
   "metadata": {},
   "outputs": [],
   "source": [
    "def add_two_numbers(a: int, b: int) -> int:\n",
    "    \"\"\"\n",
    "    Add two numbers\n",
    "\n",
    "    Args:\n",
    "      a (int): The first number\n",
    "      b (int): The second number\n",
    "\n",
    "    Returns:\n",
    "      int: The sum of the two numbers\n",
    "    \"\"\"\n",
    "\n",
    "    # The cast is necessary as returned tool call arguments don't always conform exactly to schema\n",
    "    # E.g. this would prevent \"what is 30 + 12\" to produce '3012' instead of 42\n",
    "    return int(a) + int(b)\n",
    "\n",
    "\n",
    "def subtract_two_numbers(a: int, b: int) -> int:\n",
    "    \"\"\"\n",
    "    Subtract two numbers\n",
    "    \"\"\"\n",
    "\n",
    "    # The cast is necessary as returned tool call arguments don't always conform exactly to schema\n",
    "    return int(a) - int(b)\n",
    "\n",
    "\n",
    "# Tools can still be manually defined and passed into chat\n",
    "subtract_two_numbers_tool = {\n",
    "    \"type\": \"function\",\n",
    "    \"function\": {\n",
    "        \"name\": \"subtract_two_numbers\",\n",
    "        \"description\": \"Subtract two numbers\",\n",
    "        \"parameters\": {\n",
    "            \"type\": \"object\",\n",
    "            \"required\": [\"a\", \"b\"],\n",
    "            \"properties\": {\n",
    "                \"a\": {\"type\": \"integer\", \"description\": \"The first number\"},\n",
    "                \"b\": {\"type\": \"integer\", \"description\": \"The second number\"},\n",
    "            },\n",
    "        },\n",
    "    },\n",
    "}\n",
    "\n",
    "available_functions = {\n",
    "    \"add_two_numbers\": add_two_numbers,\n",
    "    \"subtract_two_numbers\": subtract_two_numbers,\n",
    "}"
   ]
  },
  {
   "cell_type": "code",
   "execution_count": 38,
   "id": "397ee24d",
   "metadata": {},
   "outputs": [],
   "source": [
    "def process_out(resp) -> None:\n",
    "    for chunk in resp:\n",
    "        if chunk.message.tool_calls:\n",
    "            # There may be multiple tool calls in the response\n",
    "            for tool in chunk.message.tool_calls:\n",
    "                # Ensure the function is available, and then call it\n",
    "                if function_to_call := available_functions.get(tool.function.name):\n",
    "                    print(\"Calling function:\", tool.function.name)\n",
    "                    print(\"Arguments:\", tool.function.arguments)\n",
    "                    output = function_to_call(**tool.function.arguments)\n",
    "                    print(\"Function output:\", output)\n",
    "                else:\n",
    "                    print(\"Function\", tool.function.name, \"not found\")\n",
    "\n",
    "                # Add the function response to messages for the model to use\n",
    "                messages.append(chunk.message)\n",
    "                messages.append(\n",
    "                    {\"role\": \"tool\", \"content\": str(output), \"name\": tool.function.name}\n",
    "                )\n",
    "        else:\n",
    "            print(chunk.message.content, end=\"\", flush=True)"
   ]
  },
  {
   "cell_type": "code",
   "execution_count": 40,
   "id": "ff893dc6-a412-42c8-88b6-86c15f68d5b1",
   "metadata": {
    "lines_to_next_cell": 2
   },
   "outputs": [
    {
     "name": "stdout",
     "output_type": "stream",
     "text": [
      "Calling function: subtract_two_numbers\n",
      "Arguments: {'a': 7, 'b': 7}\n",
      "Function output: 0\n"
     ]
    }
   ],
   "source": [
    "llm = get_chat_model(config)\n",
    "llm.bind_tools([add_two_numbers, subtract_two_numbers_tool])\n",
    "messages = [\n",
    "    {\n",
    "        \"content\": \"What is 7 minus 7? Answer this query will available tools\",\n",
    "        \"role\": \"user\",\n",
    "    }\n",
    "]\n",
    "resp = llm.invoke(\n",
    "    messages=messages,\n",
    "    stream=True,\n",
    ")\n",
    "process_out(resp)"
   ]
  },
  {
   "cell_type": "code",
   "execution_count": 41,
   "id": "10ebad8e",
   "metadata": {},
   "outputs": [
    {
     "name": "stdout",
     "output_type": "stream",
     "text": [
      "The result of subtracting 7 from 7 is 0."
     ]
    }
   ],
   "source": [
    "resp = llm.invoke(\n",
    "    messages=messages,\n",
    "    stream=True,\n",
    ")\n",
    "process_out(resp)"
   ]
  },
  {
   "cell_type": "code",
   "execution_count": 47,
   "id": "09c78207-a030-418b-b46e-ffe0490ec758",
   "metadata": {},
   "outputs": [
    {
     "name": "stdout",
     "output_type": "stream",
     "text": [
      "Calling function: subtract_two_numbers\n",
      "Arguments: {'a': 7, 'b': 7}\n",
      "Function output: 0\n",
      "The result of subtracting 7 from 7 is 0."
     ]
    }
   ],
   "source": [
    "messages = [\n",
    "    {\n",
    "        \"content\": \"What is 7 minus 7? Answer this query will available tools\",\n",
    "        \"role\": \"user\",\n",
    "    }\n",
    "]\n",
    "llm.agent(messages, True, available_functions)"
   ]
  },
  {
   "cell_type": "code",
   "execution_count": null,
   "id": "a8c198f7-7065-4e69-aa5e-be461e7804f6",
   "metadata": {},
   "outputs": [],
   "source": []
  }
 ],
 "metadata": {
  "kernelspec": {
   "display_name": "Python 3 (ipykernel)",
   "language": "python",
   "name": "python3"
  },
  "language_info": {
   "codemirror_mode": {
    "name": "ipython",
    "version": 3
   },
   "file_extension": ".py",
   "mimetype": "text/x-python",
   "name": "python",
   "nbconvert_exporter": "python",
   "pygments_lexer": "ipython3",
   "version": "3.11.12"
  }
 },
 "nbformat": 4,
 "nbformat_minor": 5
}
