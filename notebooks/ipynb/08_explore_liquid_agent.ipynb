{
 "cells": [
  {
   "cell_type": "code",
   "execution_count": 6,
   "id": "784c3e73",
   "metadata": {},
   "outputs": [],
   "source": [
    "from liquidagent.config import (\n",
    "    LiquidAgentConfig,\n",
    "    OllamaProviderConfig,\n",
    "    SupportedModelProviders,\n",
    ")\n",
    "from liquidagent.tools.simple_chembl_search import search_similar_compounds_sync\n",
    "from liquidagent.tools.surechembl_search import get_patents_from_smiles\n",
    "from liquidagent.utils import get_chat_model, process_out"
   ]
  },
  {
   "cell_type": "markdown",
   "id": "3602e44f",
   "metadata": {},
   "source": [
    "Testing out the liquidagent api"
   ]
  },
  {
   "cell_type": "code",
   "execution_count": 7,
   "id": "9cf42963",
   "metadata": {
    "lines_to_next_cell": 2
   },
   "outputs": [],
   "source": [
    "config = LiquidAgentConfig(\n",
    "    preferred_model=SupportedModelProviders(\"ollama\"),\n",
    "    ollama=OllamaProviderConfig(\n",
    "        host=\"http://karkinos:11434\",\n",
    "        model=\"devstral\",\n",
    "    ),\n",
    ")"
   ]
  },
  {
   "cell_type": "code",
   "execution_count": 8,
   "id": "c835e1a3",
   "metadata": {
    "lines_to_next_cell": 2
   },
   "outputs": [],
   "source": [
    "# Tools can be manually defined and passed into chat\n",
    "\n",
    "\"\"\"\n",
    "Search ChEMBL for compounds similar to the input SMILES.\n",
    "\n",
    "Args:\n",
    "    smiles: SMILES string of the compound to search for\n",
    "    threshold: Similarity threshold (0-100, default 100 for exact match)\n",
    "    max_results: Max number of results to return (default 20)\n",
    "    timeout: Request timeout in seconds\n",
    "\n",
    "Returns:\n",
    "    Dictionary containing:\n",
    "    - results: List of compounds with ChEMBL IDs, SMILES, similarity scores\n",
    "    - total_found: Total number of compounds found\n",
    "    - error: Error message if search failed\n",
    "\"\"\"\n",
    "search_similar_compounds_tools = {\n",
    "    \"type\": \"function\",\n",
    "    \"function\": {\n",
    "        \"name\": \"search_similar_chemical_compounds\",\n",
    "        \"description\": \"Search ChEMBL for compounds similar to the input SMILES\",\n",
    "        \"parameters\": {\n",
    "            \"type\": \"object\",\n",
    "            \"required\": [\"smiles\"],\n",
    "            \"properties\": {\n",
    "                \"smiles\": {\n",
    "                    \"type\": \"string\",\n",
    "                    \"description\": \"SMILES string of the compound to search for\",\n",
    "                },\n",
    "            },\n",
    "        },\n",
    "    },\n",
    "}\n",
    "get_patents_from_smiles_tool = {\n",
    "    \"type\": \"function\",\n",
    "    \"function\": {\n",
    "        \"name\": \"get_patents_from_smiles\",\n",
    "        \"description\": \"Search SureChEMBL for patents using the input SMILES\",\n",
    "        \"parameters\": {\n",
    "            \"type\": \"object\",\n",
    "            \"required\": [\"smiles\"],\n",
    "            \"properties\": {\n",
    "                \"smiles\": {\n",
    "                    \"type\": \"string\",\n",
    "                    \"description\": \"SMILES string of the compound to retrieve patents for\",\n",
    "                },\n",
    "            },\n",
    "        },\n",
    "    },\n",
    "}\n",
    "\n",
    "available_functions = {\n",
    "    \"get_patents_from_smiles\": get_patents_from_smiles,\n",
    "}"
   ]
  },
  {
   "cell_type": "code",
   "execution_count": 9,
   "id": "a8c198f7-7065-4e69-aa5e-be461e7804f6",
   "metadata": {},
   "outputs": [],
   "source": [
    "llm = get_chat_model(config)\n",
    "llm.bind_tools([get_patents_from_smiles])\n",
    "system_prompt = \"\"\"\n",
    "You are a specialized assistant who can help users retrieve patent information for a given chemical compound using the tools available to you.\n",
    "After retrieving patents, only summarize chemically relevant patents for the user\n",
    "\"\"\"\n",
    "messages = [\n",
    "    {\n",
    "        \"content\": system_prompt,\n",
    "        \"role\": \"system\",\n",
    "    },\n",
    "    {\n",
    "        \"content\": \"Search patents for the chemical compound CC(=O)OC1=CC=CC=C1C(=O)O\",\n",
    "        \"role\": \"user\",\n",
    "    },\n",
    "]"
   ]
  },
  {
   "cell_type": "code",
   "execution_count": 10,
   "id": "b8d2fabb",
   "metadata": {},
   "outputs": [
    {
     "name": "stderr",
     "output_type": "stream",
     "text": [
      "2025-06-23 20:12:07,625 - liquidagent.chat_model.ollama - INFO - Messages len: 2\n",
      "2025-06-23 20:12:08,399 - httpx - INFO - HTTP Request: POST http://127.0.0.1:11434/api/chat \"HTTP/1.1 200 OK\"\n"
     ]
    },
    {
     "name": "stdout",
     "output_type": "stream",
     "text": [
      "Calling function: get_patents_from_smiles\n",
      "Arguments: {'smiles': 'CC(=O)OC1=CC=CC=C1C(=O)O'}\n"
     ]
    },
    {
     "name": "stderr",
     "output_type": "stream",
     "text": [
      "2025-06-23 20:12:39,352 - liquidagent.chat_model.ollama - INFO - Messages len: 4\n",
      "2025-06-23 20:12:42,703 - httpx - INFO - HTTP Request: POST http://127.0.0.1:11434/api/chat \"HTTP/1.1 200 OK\"\n"
     ]
    },
    {
     "name": "stdout",
     "output_type": "stream",
     "text": [
      "It appears that you have a complex JSON structure containing various sections related to patents. The data includes abstracts, descriptions, claims, and annotations of specific chemicals mentioned within the text.\n",
      "\n",
      "To analyze or interpret this data further, here are some key points broken down:\n",
      "\n",
      "### Key Sections\n",
      "\n",
      "1. **Abstract**:\n",
      "   - Describes the invention generally.\n",
      "   - Mentions a western medicine frame that is multi-functional and movable.\n",
      "\n",
      "2. **Descriptions**:\n",
      "   - Detailed explanations of how each component works within the patented device.\n",
      "   - Includes diagrams or illustrations (though not shown in the text).\n",
      "   - Specific components like anti-collision plates, placing cabinets, western medicine racks, and air suction pumps are detailed.\n",
      "\n",
      "3. **Claims**:\n",
      "   - Legal definitions that outline what is claimed as new by the inventor.\n",
      "   - Claim 1 describes a multi-functional movable western medicine frame with several specific parts (base, anti-collision plates, placing cabinet, etc.).\n",
      "   - Subsequent claims provide additional details or modifications to the first claim.\n",
      "\n",
      "4. **Annotations**:\n",
      "   - Specific chemicals mentioned in the text are highlighted, such as aspirin and acrylonitrile butadiene styrene.\n",
      "   - These annotations include metadata like start and end positions within the text where the chemical is mentioned, the category (chemical), global frequency of mention, and specific IDs for the chemicals.\n",
      "\n",
      "### Analysis\n",
      "\n",
      "- **Chemical Annotations**:\n",
      "  - **Aspirin**: Mentioned in the context of medicines that can be stored.\n",
      "    ```json\n",
      "    \"annotations\": [\n",
      "      {\n",
      "        \"name\": \"aspirin\",\n",
      "        \"start\": 440,\n",
      "        \"end\": 447,\n",
      "        \"category\": \"chemical\",\n",
      "        \"globalFrequency\": 90887,\n",
      "        \"chemicalIds\": [1353]\n",
      "      }\n",
      "    ]\n",
      "    ```\n",
      "  - **Acrylonitrile Butadiene Styrene (ABS)**: Mentioned within the claims section.\n",
      "    ```json\n",
      "    \"annotationProblem\": {\n",
      "      \"annotationProblemsEnum\": \"ANNOTATION_IN_TAG\",\n",
      "      \"annotation\": {\n",
      "        \"name\": \"acrylonitrile butadiene styrene\",\n",
      "        \"start\": 1927,\n",
      "        \"end\": 1958,\n",
      "        \"category\": \"chemical\",\n",
      "        \"globalFrequency\": 13877,\n",
      "        \"chemicalIds\": [15661]\n",
      "      }\n",
      "    }\n",
      "    ```\n",
      "\n",
      "- **Claim Responses**:\n",
      "  - Detailed description of the multi-functional movable western medicine frame.\n",
      "  - Specifies the connections and relationships between different parts like the base, anti-collision plates, placing cabinets, hydraulic rods, air suction pumps, etc.\n",
      "\n",
      "### Conclusion\n",
      "\n",
      "The JSON data encapsulates a comprehensive overview of the patent's structure, detailing the claims, descriptions, chemical mentions (annotations), and any issues with these annotations. This kind of structured data is typically used for legal reviews, technical analyses, or searches within large databases of patents and scientific literature."
     ]
    }
   ],
   "source": [
    "resp_messages = llm.agent(messages, True, available_functions)"
   ]
  },
  {
   "cell_type": "code",
   "execution_count": null,
   "id": "8638e865-c40d-4860-b73c-0a4b259366c8",
   "metadata": {},
   "outputs": [],
   "source": []
  }
 ],
 "metadata": {
  "kernelspec": {
   "display_name": "Python 3 (ipykernel)",
   "language": "python",
   "name": "python3"
  },
  "language_info": {
   "codemirror_mode": {
    "name": "ipython",
    "version": 3
   },
   "file_extension": ".py",
   "mimetype": "text/x-python",
   "name": "python",
   "nbconvert_exporter": "python",
   "pygments_lexer": "ipython3",
   "version": "3.11.12"
  }
 },
 "nbformat": 4,
 "nbformat_minor": 5
}
