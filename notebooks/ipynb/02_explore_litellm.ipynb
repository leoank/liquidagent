{
 "cells": [
  {
   "cell_type": "code",
   "execution_count": null,
   "id": "4da3d80a-3dac-4fac-8def-75eadb1f94ab",
   "metadata": {},
   "outputs": [],
   "source": [
    "from litellm import completion\n",
    "\n",
    "response = completion(\n",
    "    model=\"ollama/devstral\",\n",
    "    messages=[{\"content\": \"respond in 20 words. who are you?\", \"role\": \"user\"}],\n",
    "    api_base=\"http://localhost:11434\",\n",
    "    stream=True,\n",
    ")\n",
    "print(response)\n",
    "for chunk in response:\n",
    "    print(chunk[\"choices\"][0][\"delta\"])"
   ]
  }
 ],
 "metadata": {
  "kernelspec": {
   "display_name": "Python 3 (ipykernel)",
   "language": "python",
   "name": "python3"
  },
  "language_info": {
   "codemirror_mode": {
    "name": "ipython",
    "version": 3
   },
   "file_extension": ".py",
   "mimetype": "text/x-python",
   "name": "python",
   "nbconvert_exporter": "python",
   "pygments_lexer": "ipython3",
   "version": "3.11.11"
  }
 },
 "nbformat": 4,
 "nbformat_minor": 5
}
