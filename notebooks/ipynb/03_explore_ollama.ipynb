{
 "cells": [
  {
   "cell_type": "raw",
   "metadata": {},
   "source": [
    "---\n",
    "{}\n",
    "\n",
    "---\n",
    "\n"
   ]
  },
  {
   "cell_type": "code",
   "execution_count": null,
   "id": "dabfa2ef",
   "metadata": {},
   "outputs": [],
   "source": [
    "from ollama import chat\n",
    "\n",
    "resp = chat(\n",
    "    model=\"devstral\",\n",
    "    messages=[{\"content\": \"respond in 20 words. who are you?\", \"role\": \"user\"}],\n",
    "    stream=True,\n",
    ")\n",
    "for chunk in resp:\n",
    "    print(chunk.message.content, end=\"\", flush=True)"
   ]
  }
 ],
 "metadata": {
  "kernelspec": {
   "display_name": "Python 3 (ipykernel)",
   "language": "python",
   "name": "python3"
  }
 },
 "nbformat": 4,
 "nbformat_minor": 5
}
