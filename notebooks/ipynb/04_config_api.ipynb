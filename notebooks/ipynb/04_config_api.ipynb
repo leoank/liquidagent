{
 "cells": [
  {
   "cell_type": "code",
   "execution_count": 14,
   "id": "a2309e71",
   "metadata": {},
   "outputs": [],
   "source": [
    "# | default_exp config"
   ]
  },
  {
   "cell_type": "code",
   "execution_count": 15,
   "id": "887215e7",
   "metadata": {},
   "outputs": [],
   "source": [
    "# | export\n",
    "from enum import StrEnum, auto\n",
    "\n",
    "from pydantic import BaseModel"
   ]
  },
  {
   "cell_type": "markdown",
   "id": "ee14ab46",
   "metadata": {
    "lines_to_next_cell": 2
   },
   "source": [
    "Let's start with building the application configuration utilities.\n",
    "We need classes to configure our models and logging functionality.\n",
    "Nothing fancy here. Just some pydantic classes and an Enum for supported model providers."
   ]
  },
  {
   "cell_type": "code",
   "execution_count": 16,
   "id": "7c2a0b40",
   "metadata": {},
   "outputs": [],
   "source": [
    "# | export\n",
    "class SupportedModelProviders(StrEnum):\n",
    "    \"\"\"Supported model providers.\"\"\"\n",
    "\n",
    "    OLLAMA = auto()\n",
    "    OPENAI = auto()\n",
    "    ANTHROPIC = auto()\n",
    "    BEDROCK = auto()"
   ]
  },
  {
   "cell_type": "code",
   "execution_count": 17,
   "id": "a5189789",
   "metadata": {},
   "outputs": [],
   "source": [
    "# | export\n",
    "class OllamaProviderConfig(BaseModel):\n",
    "    \"\"\"Configuration for Ollama models.\"\"\"\n",
    "\n",
    "    host: str\n",
    "    model: str"
   ]
  },
  {
   "cell_type": "code",
   "execution_count": 18,
   "id": "22b10205",
   "metadata": {},
   "outputs": [],
   "source": [
    "# | export\n",
    "class OpenAIProviderConfig(BaseModel):\n",
    "    \"\"\"Configuration for OpenAI models.\"\"\"\n",
    "\n",
    "    pass"
   ]
  },
  {
   "cell_type": "code",
   "execution_count": 19,
   "id": "a6480e05",
   "metadata": {},
   "outputs": [],
   "source": [
    "# | export\n",
    "class AnthropicProviderConfig(BaseModel):\n",
    "    \"\"\"Configuration for Anthropic models.\"\"\"\n",
    "\n",
    "    pass"
   ]
  },
  {
   "cell_type": "code",
   "execution_count": 20,
   "id": "413e06a4",
   "metadata": {},
   "outputs": [],
   "source": [
    "# | export\n",
    "class BedrockProviderConfig(BaseModel):\n",
    "    \"\"\"Configuration for Bedrock models.\"\"\"\n",
    "\n",
    "    pass"
   ]
  },
  {
   "cell_type": "code",
   "execution_count": 21,
   "id": "49bd79ec",
   "metadata": {},
   "outputs": [],
   "source": [
    "# | export\n",
    "class LoggingConfig(BaseModel):\n",
    "    \"\"\"Configuration for logging.\"\"\"\n",
    "\n",
    "    logfile_path: str = \"\""
   ]
  },
  {
   "cell_type": "code",
   "execution_count": 22,
   "id": "84b348df",
   "metadata": {},
   "outputs": [],
   "source": [
    "# | export\n",
    "class LiquidAgentConfig(BaseModel):\n",
    "    \"\"\"Configuration for the Liquid Agent.\"\"\"\n",
    "\n",
    "    preferred_model: SupportedModelProviders\n",
    "    ollama: OllamaProviderConfig | None = None\n",
    "    openai: OpenAIProviderConfig | None = None\n",
    "    anthropic: AnthropicProviderConfig | None = None\n",
    "    bedrock: BedrockProviderConfig | None = None\n",
    "    logger: LoggingConfig | None = None"
   ]
  },
  {
   "cell_type": "code",
   "execution_count": 24,
   "id": "5581d828",
   "metadata": {},
   "outputs": [],
   "source": [
    "# | hide\n",
    "import nbdev  # noqa\n",
    "\n",
    "nbdev.nbdev_export()"
   ]
  },
  {
   "cell_type": "code",
   "execution_count": null,
   "id": "790b3350-cc40-40cf-bfa9-0c7b02619d46",
   "metadata": {},
   "outputs": [],
   "source": []
  }
 ],
 "metadata": {
  "kernelspec": {
   "display_name": "Python 3 (ipykernel)",
   "language": "python",
   "name": "python3"
  },
  "language_info": {
   "codemirror_mode": {
    "name": "ipython",
    "version": 3
   },
   "file_extension": ".py",
   "mimetype": "text/x-python",
   "name": "python",
   "nbconvert_exporter": "python",
   "pygments_lexer": "ipython3",
   "version": "3.11.12"
  }
 },
 "nbformat": 4,
 "nbformat_minor": 5
}
