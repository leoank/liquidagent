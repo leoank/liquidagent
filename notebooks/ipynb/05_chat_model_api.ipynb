{
 "cells": [
  {
   "cell_type": "code",
   "execution_count": 17,
   "id": "a7f9bd2e",
   "metadata": {},
   "outputs": [],
   "source": [
    "# | default_exp chat_model/base"
   ]
  },
  {
   "cell_type": "code",
   "execution_count": 18,
   "id": "5a0c8d9b",
   "metadata": {},
   "outputs": [],
   "source": [
    "# | export\n",
    "from abc import abstractmethod\n",
    "from collections.abc import Iterator\n",
    "from typing import Protocol\n",
    "\n",
    "from ollama import ChatResponse as OllamaChatResponse\n",
    "from ollama import Tool as OllamaTool\n",
    "\n",
    "from liquidagent.config import LiquidAgentConfig"
   ]
  },
  {
   "cell_type": "markdown",
   "id": "10ef702a",
   "metadata": {
    "lines_to_next_cell": 2
   },
   "source": [
    "There are multiple ways of accessing a chat model from different vendors.\n",
    "We don't want our implementation to depend on a specific vendor.\n",
    "So we define a protocol that defines the interface for a chat model."
   ]
  },
  {
   "cell_type": "code",
   "execution_count": 20,
   "id": "1c6fa4aa",
   "metadata": {},
   "outputs": [],
   "source": [
    "# | export\n",
    "class Tool(OllamaTool):\n",
    "    pass\n",
    "\n",
    "\n",
    "class ChatModelResponse(OllamaChatResponse):\n",
    "    pass\n",
    "\n",
    "\n",
    "class ChatModelProtocol(Protocol):\n",
    "    @abstractmethod\n",
    "    def invoke(\n",
    "        self, messages=[], stream: bool = False\n",
    "    ) -> ChatModelResponse | Iterator[ChatModelResponse]:\n",
    "        pass"
   ]
  },
  {
   "cell_type": "code",
   "execution_count": 15,
   "id": "999c5d31",
   "metadata": {},
   "outputs": [],
   "source": [
    "def get_chat_model(\n",
    "    config: LiquidAgentConfig, provider: str | None = None\n",
    ") -> ChatModelProtocol:\n",
    "    pass"
   ]
  },
  {
   "cell_type": "code",
   "execution_count": 16,
   "id": "30058dc8",
   "metadata": {},
   "outputs": [],
   "source": [
    "# | hide\n",
    "import nbdev  # noqa\n",
    "\n",
    "nbdev.nbdev_export()"
   ]
  },
  {
   "cell_type": "code",
   "execution_count": null,
   "id": "ab9c9abd-84dd-4c95-84ae-cfb0a04f42ba",
   "metadata": {},
   "outputs": [],
   "source": []
  }
 ],
 "metadata": {
  "kernelspec": {
   "display_name": "Python 3 (ipykernel)",
   "language": "python",
   "name": "python3"
  },
  "language_info": {
   "codemirror_mode": {
    "name": "ipython",
    "version": 3
   },
   "file_extension": ".py",
   "mimetype": "text/x-python",
   "name": "python",
   "nbconvert_exporter": "python",
   "pygments_lexer": "ipython3",
   "version": "3.11.12"
  }
 },
 "nbformat": 4,
 "nbformat_minor": 5
}
