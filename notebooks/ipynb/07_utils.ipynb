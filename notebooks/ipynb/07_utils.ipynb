{
 "cells": [
  {
   "cell_type": "code",
   "execution_count": 1,
   "id": "e8f7e3c0",
   "metadata": {},
   "outputs": [],
   "source": [
    "# | default_exp utils"
   ]
  },
  {
   "cell_type": "code",
   "execution_count": 2,
   "id": "a392843b",
   "metadata": {},
   "outputs": [],
   "source": [
    "# | export\n",
    "from liquidagent.chat_model.base import ChatModelProtocol\n",
    "from liquidagent.chat_model.ollama import OllamaChatModel\n",
    "from liquidagent.config import LiquidAgentConfig, SupportedModelProviders"
   ]
  },
  {
   "cell_type": "markdown",
   "id": "07dedf3d",
   "metadata": {
    "lines_to_next_cell": 2
   },
   "source": [
    "Defining some utility functions"
   ]
  },
  {
   "cell_type": "code",
   "execution_count": 3,
   "id": "1177e5ef",
   "metadata": {},
   "outputs": [],
   "source": [
    "# | export\n",
    "def get_chat_model(\n",
    "    config: LiquidAgentConfig, provider: str | None = None\n",
    ") -> ChatModelProtocol:\n",
    "    \"\"\"\n",
    "    Retrieves a chat model based on the provided configuration.\n",
    "\n",
    "    Parameters\n",
    "    ----------\n",
    "    config : LiquidAgentConfig\n",
    "        The configuration object containing the preferred model and related settings.\n",
    "    provider : str, optional\n",
    "        The specific provider to use. Defaults to None.\n",
    "\n",
    "    Returns\n",
    "    -------\n",
    "    ChatModelProtocol\n",
    "        The instantiated chat model.\n",
    "\n",
    "    Raises\n",
    "    ------\n",
    "    ValueError\n",
    "        If the preferred model is not supported.\n",
    "    \"\"\"\n",
    "    # Override preferred_model if provider is given\n",
    "    if provider is not None:\n",
    "        config.preferred_model = SupportedModelProviders(provider)\n",
    "\n",
    "    if config.preferred_model == SupportedModelProviders.OLLAMA:\n",
    "        assert config.ollama is not None\n",
    "        return OllamaChatModel(config.ollama)\n",
    "\n",
    "    raise ValueError(\"chat model not supported\")"
   ]
  },
  {
   "cell_type": "code",
   "execution_count": 4,
   "id": "af18e72e",
   "metadata": {},
   "outputs": [
    {
     "name": "stderr",
     "output_type": "stream",
     "text": [
      "/home/ank/workspace/hub/leoank/liquidagent/feat/setup/.venv/lib/python3.11/site-packages/nbdev/doclinks.py:20: UserWarning: pkg_resources is deprecated as an API. See https://setuptools.pypa.io/en/latest/pkg_resources.html. The pkg_resources package is slated for removal as early as 2025-11-30. Refrain from using this package or pin to Setuptools<81.\n",
      "  import pkg_resources,importlib\n"
     ]
    }
   ],
   "source": [
    "# | hide\n",
    "import nbdev  # noqa\n",
    "\n",
    "nbdev.nbdev_export()"
   ]
  },
  {
   "cell_type": "code",
   "execution_count": null,
   "id": "f05c1822",
   "metadata": {},
   "outputs": [],
   "source": []
  }
 ],
 "metadata": {
  "kernelspec": {
   "display_name": "Python 3 (ipykernel)",
   "language": "python",
   "name": "python3"
  },
  "language_info": {
   "codemirror_mode": {
    "name": "ipython",
    "version": 3
   },
   "file_extension": ".py",
   "mimetype": "text/x-python",
   "name": "python",
   "nbconvert_exporter": "python",
   "pygments_lexer": "ipython3",
   "version": "3.11.12"
  }
 },
 "nbformat": 4,
 "nbformat_minor": 5
}
