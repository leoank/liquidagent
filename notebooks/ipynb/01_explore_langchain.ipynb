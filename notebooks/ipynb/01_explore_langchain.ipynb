{
 "cells": [
  {
   "cell_type": "code",
   "execution_count": 3,
   "id": "31f88079-d9fb-4264-bc01-34de05e37a90",
   "metadata": {},
   "outputs": [],
   "source": [
    "from langchain_core.messages import HumanMessage\n",
    "from langchain_ollama import ChatOllama"
   ]
  },
  {
   "cell_type": "code",
   "execution_count": 4,
   "id": "847db11c",
   "metadata": {},
   "outputs": [],
   "source": [
    "chat = ChatOllama(model=\"devstral\")\n",
    "messages = [HumanMessage(content=\"What model are you?\")]"
   ]
  },
  {
   "cell_type": "code",
   "execution_count": 6,
   "id": "cb65486a-b2da-4c46-a492-82cd978650ae",
   "metadata": {},
   "outputs": [],
   "source": [
    "resp = chat.invoke(messages)"
   ]
  },
  {
   "cell_type": "code",
   "execution_count": 14,
   "id": "75d0b9c9-9c90-45a7-9bbc-d978a3850131",
   "metadata": {},
   "outputs": [
    {
     "data": {
      "text/plain": [
       "AIMessage(content='I am a helpful agentic model trained by Mistral AI and using the OpenHands scaffold. I can interact with a computer to solve tasks.', additional_kwargs={}, response_metadata={'model': 'devstral', 'created_at': '2025-06-17T03:39:49.417057393Z', 'done': True, 'done_reason': 'stop', 'total_duration': 613146589, 'load_duration': 17394687, 'prompt_eval_count': 1230, 'prompt_eval_duration': 15025427, 'eval_count': 31, 'eval_duration': 576438127, 'model_name': 'devstral'}, id='run--317ecaa0-6ad1-46b8-bf26-82c2e5731c59-0', usage_metadata={'input_tokens': 1230, 'output_tokens': 31, 'total_tokens': 1261})"
      ]
     },
     "execution_count": 14,
     "metadata": {},
     "output_type": "execute_result"
    }
   ],
   "source": [
    "resp"
   ]
  },
  {
   "cell_type": "code",
   "execution_count": null,
   "id": "fbe14d33-0a11-4c78-8364-72dfc0e7b07b",
   "metadata": {},
   "outputs": [],
   "source": []
  }
 ],
 "metadata": {
  "kernelspec": {
   "display_name": "Python 3 (ipykernel)",
   "language": "python",
   "name": "python3"
  },
  "language_info": {
   "codemirror_mode": {
    "name": "ipython",
    "version": 3
   },
   "file_extension": ".py",
   "mimetype": "text/x-python",
   "name": "python",
   "nbconvert_exporter": "python",
   "pygments_lexer": "ipython3",
   "version": "3.11.11"
  }
 },
 "nbformat": 4,
 "nbformat_minor": 5
}
