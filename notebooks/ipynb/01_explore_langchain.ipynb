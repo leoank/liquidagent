{
 "cells": [
  {
   "cell_type": "raw",
   "metadata": {},
   "source": [
    "---\n",
    "{}\n",
    "\n",
    "---\n",
    "\n"
   ]
  },
  {
   "cell_type": "code",
   "execution_count": 3,
   "id": "31f88079-d9fb-4264-bc01-34de05e37a90",
   "metadata": {},
   "outputs": [],
   "source": [
    "from langchain_core.messages import HumanMessage\n",
    "from langchain_ollama import ChatOllama\n",
    "from langgraph.prebuilt import create_react_agent\n",
    "from pydantic import BaseModel"
   ]
  },
  {
   "cell_type": "code",
   "execution_count": 15,
   "id": "847db11c",
   "metadata": {},
   "outputs": [],
   "source": [
    "chat = ChatOllama(model=\"devstral\")\n",
    "messages = [HumanMessage(content=\"What model are you?\")]"
   ]
  },
  {
   "cell_type": "code",
   "execution_count": 16,
   "id": "cb65486a-b2da-4c46-a492-82cd978650ae",
   "metadata": {},
   "outputs": [],
   "source": [
    "resp = chat.invoke(messages)"
   ]
  },
  {
   "cell_type": "code",
   "execution_count": 17,
   "id": "75d0b9c9-9c90-45a7-9bbc-d978a3850131",
   "metadata": {},
   "outputs": [
    {
     "data": {
      "text/plain": [
       "AIMessage(content='I am Devstral, an agentic model trained by Mistral AI.', additional_kwargs={}, response_metadata={'model': 'devstral', 'created_at': '2025-06-17T03:53:02.593019089Z', 'done': True, 'done_reason': 'stop', 'total_duration': 3678034157, 'load_duration': 2825244343, 'prompt_eval_count': 1230, 'prompt_eval_duration': 566641802, 'eval_count': 16, 'eval_duration': 282371066, 'model_name': 'devstral'}, id='run--c8a8c226-f511-49da-a6dc-f52904582dae-0', usage_metadata={'input_tokens': 1230, 'output_tokens': 16, 'total_tokens': 1246})"
      ]
     },
     "execution_count": 17,
     "metadata": {},
     "output_type": "execute_result"
    }
   ],
   "source": [
    "resp"
   ]
  },
  {
   "cell_type": "code",
   "execution_count": null,
   "id": "fbe14d33-0a11-4c78-8364-72dfc0e7b07b",
   "metadata": {},
   "outputs": [],
   "source": [
    "def get_weather(city: str) -> str:\n",
    "    \"\"\"Get weather for a given city.\"\"\"\n",
    "    return f\"It's always sunny in {city}!\"\n",
    "\n",
    "\n",
    "class WeatherResponse(BaseModel):\n",
    "    conditions: str\n",
    "\n",
    "\n",
    "agent = create_react_agent(\n",
    "    model=chat,\n",
    "    tools=[get_weather],\n",
    "    prompt=\"You are a helpful assistant\",\n",
    "    response_format=WeatherResponse,\n",
    ")\n",
    "\n",
    "# Run the agent\n",
    "resp = agent.invoke(\n",
    "    {\"messages\": [{\"role\": \"user\", \"content\": \"what is the weather in sf\"}]}\n",
    ")"
   ]
  },
  {
   "cell_type": "code",
   "execution_count": 25,
   "id": "0d97c779-17de-4fd5-9ad5-4c3c0a75db86",
   "metadata": {},
   "outputs": [
    {
     "data": {
      "text/plain": [
       "[HumanMessage(content='what is the weather in sf', additional_kwargs={}, response_metadata={}, id='b83b69c5-3617-4d98-a7df-8111565e4617'),\n",
       " AIMessage(content='', additional_kwargs={}, response_metadata={'model': 'devstral', 'created_at': '2025-06-17T03:56:53.054908774Z', 'done': True, 'done_reason': 'stop', 'total_duration': 353654933, 'load_duration': 19084483, 'prompt_eval_count': 67, 'prompt_eval_duration': 21690645, 'eval_count': 17, 'eval_duration': 311316040, 'model_name': 'devstral'}, id='run--6724988e-0ce8-4017-a458-cd2bb5da7353-0', tool_calls=[{'name': 'get_weather', 'args': {'city': 'sf'}, 'id': '140ac47d-dbb7-4566-95c0-197040e41136', 'type': 'tool_call'}], usage_metadata={'input_tokens': 67, 'output_tokens': 17, 'total_tokens': 84}),\n",
       " ToolMessage(content=\"It's always sunny in sf!\", name='get_weather', id='d364fe1f-7bf9-4623-a789-3ec4d20a5e2a', tool_call_id='140ac47d-dbb7-4566-95c0-197040e41136'),\n",
       " AIMessage(content=\"It's always sunny in San Francisco!\", additional_kwargs={}, response_metadata={'model': 'devstral', 'created_at': '2025-06-17T03:56:53.254170334Z', 'done': True, 'done_reason': 'stop', 'total_duration': 195110812, 'load_duration': 16880517, 'prompt_eval_count': 49, 'prompt_eval_duration': 11637255, 'eval_count': 9, 'eval_duration': 163036643, 'model_name': 'devstral'}, id='run--b22c2f12-a44b-478a-b151-9ed4008296b5-0', usage_metadata={'input_tokens': 49, 'output_tokens': 9, 'total_tokens': 58})]"
      ]
     },
     "execution_count": 25,
     "metadata": {},
     "output_type": "execute_result"
    }
   ],
   "source": [
    "resp[\"messages\"]"
   ]
  },
  {
   "cell_type": "code",
   "execution_count": null,
   "id": "b87e2fd0-944e-4abd-8f79-e5cc7282fe92",
   "metadata": {},
   "outputs": [],
   "source": []
  }
 ],
 "metadata": {
  "kernelspec": {
   "display_name": "Python 3 (ipykernel)",
   "language": "python",
   "name": "python3"
  },
  "language_info": {
   "codemirror_mode": {
    "name": "ipython",
    "version": 3
   },
   "file_extension": ".py",
   "mimetype": "text/x-python",
   "name": "python",
   "nbconvert_exporter": "python",
   "pygments_lexer": "ipython3",
   "version": "3.11.11"
  }
 },
 "nbformat": 4,
 "nbformat_minor": 5
}
